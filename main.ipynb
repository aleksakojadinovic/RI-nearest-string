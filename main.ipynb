{
 "cells": [
  {
   "cell_type": "code",
   "execution_count": 64,
   "id": "minor-burns",
   "metadata": {},
   "outputs": [],
   "source": [
    "import numpy as np\n",
    "from tqdm import tqdm"
   ]
  },
  {
   "cell_type": "code",
   "execution_count": 65,
   "id": "promotional-findings",
   "metadata": {},
   "outputs": [],
   "source": [
    "# PROBLEM:\n",
    "\n",
    "# Input: `n` strings s_1, ...s _n, each of length m, over a finite alphabet\n",
    "# Solution: A string `s` of length m\n",
    "# Measure: max_i=1^{n}(dH(s, s_i)) where dH is Hamming distance\n",
    "# Goal: Minimize the measure"
   ]
  },
  {
   "cell_type": "code",
   "execution_count": 66,
   "id": "involved-frontier",
   "metadata": {},
   "outputs": [],
   "source": [
    "def hamming_distance(s1, s2):\n",
    "    return sum(c1 != c2 for c1, c2 in zip(s1, s2))"
   ]
  },
  {
   "cell_type": "code",
   "execution_count": 67,
   "id": "filled-invitation",
   "metadata": {},
   "outputs": [],
   "source": [
    "# Returns the alphabet for a given string\n",
    "def get_alphabet(s):\n",
    "    return set(np.unique(list(s)))"
   ]
  },
  {
   "cell_type": "code",
   "execution_count": 68,
   "id": "rapid-father",
   "metadata": {},
   "outputs": [],
   "source": [
    "# Returns the alphabet for a given list of strings\n",
    "def get_alphabet_all(strings):\n",
    "    alphabet = set()\n",
    "    for s in strings:\n",
    "        alphabet = alphabet.union(get_alphabet(s))\n",
    "    return alphabet\n"
   ]
  },
  {
   "cell_type": "code",
   "execution_count": 69,
   "id": "specified-bottom",
   "metadata": {},
   "outputs": [],
   "source": [
    "def parse_problem(input_strings):\n",
    "    input_strings = list(set(input_strings))\n",
    "    n = len(input_strings)    \n",
    "    if n == 0:\n",
    "        raise ValueError('The list has 0 elements.')\n",
    "    m = len(input_strings[0])\n",
    "    if not all(len(s) == m for s in input_strings):\n",
    "        raise ValueError('Expecting strings of equal lengths.')\n",
    "    \n",
    "    alphabet = list(get_alphabet_all(input_strings))\n",
    "    \n",
    "    return {'n': n, 'm': m, 'strings': input_strings, 'alphabet': alphabet}"
   ]
  },
  {
   "cell_type": "code",
   "execution_count": 70,
   "id": "incredible-reunion",
   "metadata": {},
   "outputs": [],
   "source": [
    "def print_problem(problem_input):\n",
    "    print('>> Nearest String problem for: ')\n",
    "    print(f\"\\t{problem_input['n']} strings of length {problem_input['m']}\")\n",
    "    print(f\"\\tOver finite alphabet: {problem_input['alphabet']}\")\n",
    "    print(f\"\\tStrings: \")\n",
    "    print(\"\\t\" + \"\\n\\t\".join(problem_input['strings']))\n",
    "    pass\n",
    "    "
   ]
  },
  {
   "cell_type": "code",
   "execution_count": 87,
   "id": "varied-crisis",
   "metadata": {},
   "outputs": [],
   "source": [
    "def get_all_variations_(n, variation, m, result):\n",
    "    if m == len(variation):\n",
    "        result.append(variation.copy())\n",
    "        return\n",
    "    for nn in range(0, n):\n",
    "        variation[m] = nn\n",
    "        get_all_variations_(n, variation, m + 1, result)\n",
    "        \n",
    "\n",
    "        "
   ]
  },
  {
   "cell_type": "code",
   "execution_count": 108,
   "id": "beneficial-tomorrow",
   "metadata": {},
   "outputs": [],
   "source": [
    "def get_all_variations(n, k):\n",
    "    variation = [0 for _ in range(k)]\n",
    "    result = []\n",
    "    get_all_variations_(n, variation, 0, result)\n",
    "    return result"
   ]
  },
  {
   "cell_type": "code",
   "execution_count": 147,
   "id": "standard-scout",
   "metadata": {},
   "outputs": [],
   "source": [
    "LOGFILE = open('out.txt', 'w')\n"
   ]
  },
  {
   "cell_type": "code",
   "execution_count": 159,
   "id": "express-combat",
   "metadata": {},
   "outputs": [],
   "source": [
    "def brute_force_(problem_input):\n",
    "    print_problem(problem_input)\n",
    "    n = problem_input['n']\n",
    "    m = problem_input['m']\n",
    "    alphabet = problem_input['alphabet']\n",
    "    strings  = problem_input['strings']\n",
    "    a = len(alphabet)\n",
    "    index_sets = get_all_variations(a, m)\n",
    "    candidates = []\n",
    "    for variation_indices in tqdm(index_sets):\n",
    "        candidate_string = ''.join(alphabet[v] for v in variation_indices)\n",
    "        candidates.append(candidate_string)\n",
    "        \n",
    "    def key_func(string):\n",
    "        return max(hamming_distance(string, o) for o in strings)\n",
    "    \n",
    "    strs_and_dists = map(lambda s: (s, key_func(s)), candidates)\n",
    "    best_str, best_str_dist = min(strs_and_dists, key=lambda x: x[1])\n",
    "    \n",
    "    print(f'Best string is: {best_str} with dist {best_str_dist}')\n",
    "    \n",
    "        \n",
    "        \n",
    "    "
   ]
  },
  {
   "cell_type": "code",
   "execution_count": 160,
   "id": "dental-attachment",
   "metadata": {},
   "outputs": [],
   "source": [
    "def brute_force(input_strings):\n",
    "    return brute_force_(parse_problem(input_strings))"
   ]
  },
  {
   "cell_type": "code",
   "execution_count": 161,
   "id": "skilled-freeware",
   "metadata": {},
   "outputs": [
    {
     "name": "stdout",
     "output_type": "stream",
     "text": [
      ">> Nearest String problem for: \n",
      "\t3 strings of length 7\n",
      "\tOver finite alphabet: ['s', 'e', 'a', 'q', 'd', 'w']\n",
      "\tStrings: \n",
      "\tassdqwe\n",
      "\taasdasd\n",
      "\tqwweasd\n"
     ]
    },
    {
     "name": "stderr",
     "output_type": "stream",
     "text": [
      "100%|██████████| 279936/279936 [00:00<00:00, 768887.57it/s]\n"
     ]
    },
    {
     "name": "stdout",
     "output_type": "stream",
     "text": [
      "Best string is: sssease with dist 4\n"
     ]
    }
   ],
   "source": [
    "brute_force(['aasdasd', 'assdqwe', 'qwweasd'])"
   ]
  },
  {
   "cell_type": "code",
   "execution_count": null,
   "id": "handmade-blade",
   "metadata": {},
   "outputs": [],
   "source": []
  }
 ],
 "metadata": {
  "kernelspec": {
   "display_name": "Python 3",
   "language": "python",
   "name": "python3"
  },
  "language_info": {
   "codemirror_mode": {
    "name": "ipython",
    "version": 3
   },
   "file_extension": ".py",
   "mimetype": "text/x-python",
   "name": "python",
   "nbconvert_exporter": "python",
   "pygments_lexer": "ipython3",
   "version": "3.8.6"
  }
 },
 "nbformat": 4,
 "nbformat_minor": 5
}
