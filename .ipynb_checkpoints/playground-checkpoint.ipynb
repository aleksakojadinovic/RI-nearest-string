{
 "cells": [
  {
   "cell_type": "code",
   "execution_count": 21,
   "id": "830b6151",
   "metadata": {},
   "outputs": [],
   "source": [
    "class ystr(str):\n",
    "    def __or__(self, index_list):\n",
    "        return MyString(''.join(c for i, c in enumerate(str(self)) if i in index_list))\n",
    "    \n",
    "    def __setitem__(self, k, v):\n",
    "        s = str(self)\n",
    "        new_s = s[:k] + v + s[k+1:]\n",
    "        return MyString(new_s)\n",
    "    \n",
    "        \n",
    "    \n",
    "        "
   ]
  },
  {
   "cell_type": "code",
   "execution_count": null,
   "id": "b3bf605b",
   "metadata": {},
   "outputs": [],
   "source": []
  }
 ],
 "metadata": {
  "kernelspec": {
   "display_name": "Python 3",
   "language": "python",
   "name": "python3"
  },
  "language_info": {
   "codemirror_mode": {
    "name": "ipython",
    "version": 3
   },
   "file_extension": ".py",
   "mimetype": "text/x-python",
   "name": "python",
   "nbconvert_exporter": "python",
   "pygments_lexer": "ipython3",
   "version": "3.9.4"
  }
 },
 "nbformat": 4,
 "nbformat_minor": 5
}
